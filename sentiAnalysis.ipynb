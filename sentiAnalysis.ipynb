{
  "nbformat": 4,
  "nbformat_minor": 0,
  "metadata": {
    "colab": {
      "provenance": [],
      "toc_visible": true
    },
    "kernelspec": {
      "name": "python3",
      "display_name": "Python 3"
    },
    "language_info": {
      "name": "python"
    }
  },
  "cells": [
    {
      "cell_type": "code",
      "execution_count": 1,
      "metadata": {
        "id": "iK0QsmAsIBfu"
      },
      "outputs": [],
      "source": [
        "import numpy as np\n",
        "import pandas as pd\n",
        "import matplotlib.pyplot as plt\n",
        "import re\n",
        "from PIL import Image\n",
        "from collections import Counter\n",
        "from wordcloud import wordcloud, STOPWORDS, ImageColorGenerator\n"
      ]
    },
    {
      "cell_type": "code",
      "source": [
        "conversation='WhatsApp Chat with Sudeep Pramanik.txt'"
      ],
      "metadata": {
        "id": "9cgHNl31RlkH"
      },
      "execution_count": 2,
      "outputs": []
    },
    {
      "cell_type": "code",
      "source": [
        "def date_time(s):\n",
        "  pattern = '^([0-9]+)(\\/)([0-9]+)(\\/)([0-9]+), ([0-9]+):([0-9]+)[ ]?(AM|PM|am|pm)? -'\n",
        "  result =re.match(pattern,s)\n",
        "  if result:\n",
        "    return True\n",
        "  return False"
      ],
      "metadata": {
        "id": "mPJxF5E6S1Jm"
      },
      "execution_count": 3,
      "outputs": []
    },
    {
      "cell_type": "code",
      "source": [
        "def find_author(s):\n",
        "  s=s.split(\":\")\n",
        "  if len(s)==2:\n",
        "    return True\n",
        "  else:\n",
        "    return False"
      ],
      "metadata": {
        "id": "bIO6MrYHTPVi"
      },
      "execution_count": 4,
      "outputs": []
    },
    {
      "cell_type": "code",
      "source": [
        "def messages(line):\n",
        "  splitline = line.split(' - ')\n",
        "  datetime=splitline[0]\n",
        "  date, time =datetime.split(\",\")\n",
        "  message= \" \".join(splitline[1:])\n",
        "\n",
        "  if find_author(message):\n",
        "    splitmessage=message.split(\": \")\n",
        "    author= splitmessage[0]\n",
        "    message= \" \".join(splitmessage[1:])\n",
        "  else:\n",
        "    author=None\n",
        "\n",
        "  return date, time, author, message"
      ],
      "metadata": {
        "id": "5zwPGV5xNYAi"
      },
      "execution_count": 5,
      "outputs": []
    },
    {
      "cell_type": "markdown",
      "source": [
        "Praparing the dataset"
      ],
      "metadata": {
        "id": "GDjPbvh2O7WQ"
      }
    },
    {
      "cell_type": "code",
      "source": [
        "\n",
        "data=[]\n",
        "conversation='WhatsApp Chat with Sudeep Pramanik.txt'\n",
        "with open(conversation,encoding = \"utf-8\") as fp:\n",
        "  fp.readline()\n",
        "  messageBuffer=[]\n",
        "  date, time, author =None, None, None\n",
        "\n",
        "  while True:\n",
        "    line=fp.readline()\n",
        "    if not line:\n",
        "      break\n",
        "    line=line.strip()\n",
        "    if date_time(line):\n",
        "      if len(messageBuffer)>0:\n",
        "        date.append([date,time,author,''.join(messageBuffer)])\n",
        "      messageBuffer.clear()\n",
        "      date,time,author,message= messages(line)\n",
        "      messageBuffer.append(message)\n",
        "    else:\n",
        "      messageBuffer.append(line)"
      ],
      "metadata": {
        "id": "acG6klWhOBZo"
      },
      "execution_count": 6,
      "outputs": []
    },
    {
      "cell_type": "code",
      "source": [
        "df= pd.DataFrame(data, columns=['Date','Time','Author','Message'])\n",
        "df['Date']=pd.to_datetime(df['Date'])\n",
        "df.head()\n",
        "data=df.dropna()\n",
        "from nltk.sentiment.vader import SentimentIntensityAnalyzer\n",
        "sid=SentimentIntensityAnalyzer()\n",
        "\n",
        "positive_scores = []\n",
        "negative_scores = []\n",
        "neutral_scores = []\n",
        "\n",
        "positive_scores = [sid.polarity_scores(i)[\"pos\"] for i in data[\"Message\"]]\n",
        "negative_scores = [sid.polarity_scores(i)[\"neg\"] for i in data[\"Message\"]]\n",
        "neutral_scores = [sid.polarity_scores(i)[\"neu\"] for i in data[\"Message\"]]\n",
        "\n",
        "data[\"Positive\"] = positive_scores\n",
        "data[\"Negative\"] = negative_scores\n",
        "data[\"Neutral\"] = neutral_scores\n",
        "\n",
        "print(data.head(10))"
      ],
      "metadata": {
        "id": "_YYX9ndvQzJh",
        "outputId": "42e401b5-e683-4fab-c8c7-0fd482eea6aa",
        "colab": {
          "base_uri": "https://localhost:8080/"
        }
      },
      "execution_count": 8,
      "outputs": [
        {
          "output_type": "stream",
          "name": "stdout",
          "text": [
            "Empty DataFrame\n",
            "Columns: [Date, Time, Author, Message, Positive, Negative, Neutral]\n",
            "Index: []\n"
          ]
        }
      ]
    },
    {
      "cell_type": "code",
      "source": [
        "x=sum(data[\"Positive\"])\n",
        "y=sum(data[\"Negative\"])\n",
        "z=sum(data[\"Neutral\"])\n",
        "\n",
        "def score(A,B,C):\n",
        "  if(A>B and A>C):\n",
        "    print(\"Positive\")\n",
        "  elif(B>A and B>C):\n",
        "    print(\"Negative\")\n",
        "  else:\n",
        "    print(\"Neutral\")\n",
        "\n",
        "score(x,y,z)"
      ],
      "metadata": {
        "id": "3GWnJYc8Xa_6",
        "outputId": "18f45720-5764-4f4c-e1c6-cb109abadfaf",
        "colab": {
          "base_uri": "https://localhost:8080/"
        }
      },
      "execution_count": 9,
      "outputs": [
        {
          "output_type": "stream",
          "name": "stdout",
          "text": [
            "Neutral\n"
          ]
        }
      ]
    },
    {
      "cell_type": "code",
      "source": [],
      "metadata": {
        "id": "b9PYSUUjZjgF"
      },
      "execution_count": 9,
      "outputs": []
    }
  ]
}